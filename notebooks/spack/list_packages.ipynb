{
 "cells": [
  {
   "cell_type": "code",
   "execution_count": 1,
   "id": "339cc85b-5b98-4e46-b10e-46cb1cc5fa3a",
   "metadata": {},
   "outputs": [
    {
     "data": {
      "text/plain": [
       "'Sample code for listing spack packages.'"
      ]
     },
     "execution_count": 1,
     "metadata": {},
     "output_type": "execute_result"
    }
   ],
   "source": [
    "\"\"\"Sample code for listing spack packages.\"\"\""
   ]
  },
  {
   "cell_type": "code",
   "execution_count": 2,
   "id": "dbdfb9a5-42b1-4c2c-b12e-d9dad2207269",
   "metadata": {
    "editable": true,
    "slideshow": {
     "slide_type": ""
    },
    "tags": []
   },
   "outputs": [],
   "source": [
    "import importlib\n",
    "import itertools\n",
    "import re\n",
    "import shutil\n",
    "import sys\n",
    "from dataclasses import dataclass\n",
    "from pathlib import Path\n",
    "from types import ModuleType"
   ]
  },
  {
   "cell_type": "code",
   "execution_count": 3,
   "id": "d89a9a22-b7c1-49f5-8015-d11c8e94fe57",
   "metadata": {
    "tags": []
   },
   "outputs": [],
   "source": [
    "class Spack:\n",
    "    \"\"\"Spack interface class.\"\"\"\n",
    "\n",
    "    @dataclass\n",
    "    class Modules:\n",
    "        \"\"\"Spack modules.\"\"\"\n",
    "\n",
    "        config: ModuleType\n",
    "        repo: ModuleType\n",
    "\n",
    "    def __init__(self) -> None:\n",
    "        \"\"\"Constructor.\"\"\"\n",
    "        self.modules = self.load_modules()\n",
    "        self.repos = self.load_repo_list()\n",
    "        self.packages = self.load_package_list()\n",
    "\n",
    "    def load_modules(self) -> Modules:\n",
    "        \"\"\"Loads all required packages.\"\"\"\n",
    "        spack_root = Path(shutil.which(\"spack\")).parent.parent\n",
    "        lib_path = spack_root / \"lib/spack\"\n",
    "\n",
    "        for path in [lib_path, lib_path / \"external\"]:\n",
    "            if path not in sys.path:\n",
    "                sys.path.append(str(path))\n",
    "\n",
    "        return self.Modules(\n",
    "            config=importlib.import_module('spack.config'),\n",
    "            repo=importlib.import_module('spack.repo'),\n",
    "        )\n",
    "\n",
    "    def load_repo_list(self) -> list:\n",
    "        \"\"\"Load a list of all repos.\"\"\"\n",
    "        return list(\n",
    "            map(self.modules.repo.Repo, self.modules.config.get(\"repos\"))\n",
    "        )\n",
    "\n",
    "    class Package:\n",
    "        \"\"\"Wrapper for a spack package.\"\"\"\n",
    "\n",
    "        def __init__(self, modules, name) -> None:\n",
    "            \"\"\"Constructor.\"\"\"\n",
    "            self.modules = modules\n",
    "            self.name = name\n",
    "\n",
    "        def __str__(self) -> str:\n",
    "            \"\"\"String representation of the package.\"\"\"\n",
    "            return self.name\n",
    "\n",
    "        def __repr__(self) -> str:\n",
    "            \"\"\"String representation of the package.\"\"\"\n",
    "            return self.name\n",
    "\n",
    "        @property\n",
    "        def dependencies(self):\n",
    "            \"\"\"Get a list of package dependencies.\"\"\"\n",
    "            raise NotImplementedError(\"this method is not implemented yet.\")\n",
    "\n",
    "        @property\n",
    "        def latest(self):\n",
    "            \"\"\"Get the latest package version.\"\"\"\n",
    "            raise NotImplementedError(\"this method is not implemented yet.\")\n",
    "\n",
    "        @property\n",
    "        def versions(self):\n",
    "            \"\"\"Get all package versions.\"\"\"\n",
    "            raise NotImplementedError(\"this method is not implemented yet.\")\n",
    "\n",
    "    def load_package_list(self) -> list[Package]:\n",
    "        \"\"\"Load a list of all packages.\"\"\"\n",
    "        return list(\n",
    "            map(\n",
    "                lambda package: self.Package(self.modules, package),\n",
    "                itertools.chain.from_iterable(\n",
    "                    list(\n",
    "                        map(lambda repo: repo.all_package_names(), self.repos)\n",
    "                    )\n",
    "                ),\n",
    "            )\n",
    "        )\n",
    "\n",
    "    def filter_packages(self, prefix) -> list[str]:\n",
    "        \"\"\"Filter packages based on a prefix.\"\"\"\n",
    "        regex = re.compile(fr\"^{prefix}.*$\")\n",
    "        return list(filter(lambda p: regex.match(p.name), self.packages))"
   ]
  },
  {
   "cell_type": "code",
   "execution_count": 4,
   "id": "18396402-52d9-4c8a-81ac-dfe22467a8e2",
   "metadata": {
    "tags": []
   },
   "outputs": [
    {
     "name": "stdout",
     "output_type": "stream",
     "text": [
      " Total packages: 7136\n",
      "     R packages: 1118\n",
      "Python packages: 2220\n"
     ]
    }
   ],
   "source": [
    "spack = Spack()\n",
    "\n",
    "print(\" Total packages:\", len(spack.packages))\n",
    "\n",
    "r_packages = spack.filter_packages(\"r-\")\n",
    "print(\"     R packages:\", len(r_packages))\n",
    "\n",
    "python_packages = spack.filter_packages(\"py-\")\n",
    "print(\"Python packages:\", len(python_packages))"
   ]
  }
 ],
 "metadata": {
  "kernelspec": {
   "display_name": "Python 3 (ipykernel)",
   "language": "python",
   "name": "python3"
  },
  "language_info": {
   "codemirror_mode": {
    "name": "ipython",
    "version": 3
   },
   "file_extension": ".py",
   "mimetype": "text/x-python",
   "name": "python",
   "nbconvert_exporter": "python",
   "pygments_lexer": "ipython3",
   "version": "3.9.16"
  }
 },
 "nbformat": 4,
 "nbformat_minor": 5
}
